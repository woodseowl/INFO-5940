{
 "cells": [
  {
   "cell_type": "code",
   "execution_count": 1,
   "metadata": {},
   "outputs": [
    {
     "name": "stdout",
     "output_type": "stream",
     "text": [
      "Claude:\n",
      "\n",
      "The purpose of life is a profound philosophical question that has been debated throughout human history, and there isn't a single, universally accepted answer. Different perspectives include:\n",
      "\n",
      "1. Personal Growth: To learn, develop, and become the best version of yourself\n",
      "\n",
      "2. Relationships: To form meaningful connections with others and love\n",
      "\n",
      "3. Contribution: To make a positive impact on the world and help others\n",
      "\n",
      "4. Happiness: To experience joy and contentment\n",
      "\n",
      "5. Religious/Spiritual: Many believe the purpose is to fulfill divine will or achieve spiritual enlightenment\n",
      "\n",
      "6. Biological: To survive and pass on genes to future generations\n",
      "\n",
      "7. Self-Determined: Many philosophers argue that life has no inherent meaning, and we must create our own purpose\n",
      "\n",
      "8. Legacy: To leave something meaningful behind for future generations\n",
      "\n",
      "The \"purpose\" of life might be highly individual, combining several of these aspects based on personal values and beliefs. What matters most is finding what gives your life meaning and pursuing that while respecting others' paths to finding their own purpose.\n",
      "\n",
      "\n"
     ]
    }
   ],
   "source": [
    "from openai import OpenAI\n",
    "\n",
    "openai = OpenAI()\n",
    "\n",
    "claude_response = openai.chat.completions.create(\n",
    "    model='anthropic.claude-3.5-sonnet.v2',\n",
    "    messages=[\n",
    "        {'role': 'system', 'content': 'You are a helpful assistant.'},\n",
    "        {'role': 'user', 'content': 'What is the purpose of life?'},\n",
    "    ],\n",
    ").choices[0].message.content\n",
    "\n",
    "print(f'Claude:\\n\\n{claude_response}\\n\\n')\n"
   ]
  },
  {
   "cell_type": "code",
   "execution_count": null,
   "metadata": {},
   "outputs": [],
   "source": [
    "gpt4o_response = openai.chat.completions.create(\n",
    "    model='openai.gpt-4o',\n",
    "    messages=[\n",
    "        {'role': 'system', 'content': 'You are a helpful assistant.'},\n",
    "        {'role': 'user', 'content': 'What is the purpose of life?'},\n",
    "    ],\n",
    ").choices[0].message.content\n",
    "\n",
    "print(f'GPT4o:\\n\\n{gpt4o_response}\\n\\n')"
   ]
  },
  {
   "cell_type": "code",
   "execution_count": 3,
   "metadata": {},
   "outputs": [],
   "source": [
    "response = openai.chat.completions.create(\n",
    "        model='openai.gpt-4o',\n",
    "        messages=[\n",
    "            {\n",
    "                \"role\": \"user\",\n",
    "                \"content\": \"tell me more\",\n",
    "            },\n",
    "        ]\n",
    "        )"
   ]
  },
  {
   "cell_type": "code",
   "execution_count": null,
   "metadata": {},
   "outputs": [],
   "source": [
    "response.choices[0].message.content"
   ]
  },
  {
   "cell_type": "code",
   "execution_count": null,
   "metadata": {},
   "outputs": [],
   "source": []
  }
 ],
 "metadata": {
  "kernelspec": {
   "display_name": "Python 3",
   "language": "python",
   "name": "python3"
  },
  "language_info": {
   "codemirror_mode": {
    "name": "ipython",
    "version": 3
   },
   "file_extension": ".py",
   "mimetype": "text/x-python",
   "name": "python",
   "nbconvert_exporter": "python",
   "pygments_lexer": "ipython3",
   "version": "3.11.11"
  }
 },
 "nbformat": 4,
 "nbformat_minor": 2
}
