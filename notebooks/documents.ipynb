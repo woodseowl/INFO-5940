{
 "cells": [
  {
   "cell_type": "code",
   "execution_count": null,
   "id": "initial_id",
   "metadata": {
    "collapsed": true
   },
   "outputs": [
    {
     "name": "stdout",
     "output_type": "stream",
     "text": [
      "Loaded 2 documents from /workspace/data/uploaded_files\n",
      "Filename: /workspace/data/uploaded_files/guidelines-list.md\n",
      "Metadata: {'source': '/workspace/data/uploaded_files/guidelines-list.md'}\n",
      "Filename: /workspace/data/uploaded_files/lecture_notes.txt\n",
      "Metadata: {'source': '/workspace/data/uploaded_files/lecture_notes.txt'}\n"
     ]
    }
   ],
   "source": [
    "from langchain_community.document_loaders import TextLoader\n",
    "storage_path = \"/workspace/data/uploaded_files\"\n",
    "file_path1 = f\"{storage_path}/guidelines-list.md\"\n",
    "file_path2 = f\"{storage_path}/lecture_notes.txt\"\n",
    "\n",
    "documents = []\n",
    "documents.extend(TextLoader(file_path1).load())\n",
    "documents.extend(TextLoader(file_path2).load())\n",
    "\n",
    "print(f\"Loaded {len(documents)} documents from {storage_path}\")\n",
    "for doc in documents:\n",
    "    print(f\"Filename: {doc.metadata['source']}\")\n",
    "    # print(\"-\" * 40)"
   ]
  },
  {
   "cell_type": "code",
   "execution_count": 34,
   "id": "f4c307b2",
   "metadata": {},
   "outputs": [],
   "source": [
    "from langchain_openai import ChatOpenAI, OpenAIEmbeddings\n",
    "from langchain_chroma import Chroma\n",
    "\n",
    "embeddings = \"openai.text-embedding-3-large\"\n",
    "vectorstore = Chroma(\n",
    "        embedding_function = OpenAIEmbeddings(model=embeddings),\n",
    "        persist_directory = f\"{storage_path}/chroma\",\n",
    "        collection_name = \"uploaded_files\"\n",
    "    )\n",
    "\n",
    "retriever = vectorstore.as_retriever(search_type=\"similarity\", search_kwargs={\"k\": 3})\n",
    "\n",
    "def format_docs(docs):\n",
    "    return \"\\n\\n\".join(doc.page_content for doc in docs)\n",
    "\n"
   ]
  },
  {
   "cell_type": "code",
   "execution_count": null,
   "id": "d106fbfd",
   "metadata": {},
   "outputs": [],
   "source": [
    "vectorstore.delete_collection()\n",
    "vectorstore.reset_collection()"
   ]
  },
  {
   "cell_type": "code",
   "execution_count": 31,
   "id": "29b307d0",
   "metadata": {},
   "outputs": [
    {
     "data": {
      "text/plain": [
       "[Document(metadata={'source': '/workspace/data/uploaded_files/guidelines-list.md'}, page_content='* If the `<img>` tag or `role=\"img\"` is used   \\n  * There must be an `alt` attribute on the image. (Siteimprove and WAVE detect this.)  \\n  * Every `<img>` tag in a group of images must have the `alt` attribute.  \\n* If the `<svg>` tag is used   \\n  * The attribute and value `role=\"img\"` must be applied.  \\n* If the `<figure>` tag is used   \\n  * The image(s) contained within use the conventions of the aforementioned `<img>` and  `<svg>` tags.  \\n* If there is a `title` attribute present on an image, that does **not** factor into alternative text.  This attribute only provides hover-over text and is not available to assistive technology.   \\n* CSS background images must not be used to present informative or grouped images.\\n\\n#### Determine if the alternative text value is appropriate.\\n\\nUse WAVE, a Screen Reader, or the browser\\'s inspector tools (F12) to view the alternative text for each image.'),\n",
       " Document(metadata={'source': '/workspace/data/uploaded_files/guidelines-list.md'}, page_content='**Note ** If the \"informative image\" is [described adequately by plain text information](https://www.w3.org/WAI/tutorials/images/decorative/#image-with-adjacent-text-alternative) directly adjacent to the image, it should follow Guideline 2 instead as it should be considered a decorative image.\\n\\n* Alternative text must adequately describe the visual contents of the image.    \\n* Alternative text may NOT be a filename, or placeholder text like \"picture-1.\"  \\n*  **Best Practice ** Alternative text for images should not include text like \"image of.\"  Assistive technology users will already know this.  It is okay to state that an image is perhaps a screenshot, a photograph, or a painting, etc., if it is necessary to know this.  \\n*  **Best Practice ** Alternative text should not be text that would be considered the title, caption, or legend of the image.  We are only concerned with the literal visual appearance.\\n\\n#### Examples of alternative text for an informative image'),\n",
       " Document(metadata={'source': '/workspace/data/uploaded_files/guidelines-list.md'}, page_content='# All guidelines\\n\\n##  1. Informative and grouped images must contain alternative text describing the purpose or meaning of the image(s).\\n\\n### WCAG 2 criterion\\n\\n1.1.1 Non-text Content (Level A)\\n\\n### Tools and requirements\\n\\n* WAVE extension, screen reader, or browser inspector\\n\\n### Note\\n\\nThis guideline is targeted at \"[informative images](https://www.w3.org/WAI/tutorials/images/informative/) and [grouped images](https://www.w3.org/WAI/tutorials/images/groups/).\"  Please refer to the image categorization guidance in the Definitions section if you are unsure which category the image you are assessing belongs to.\\n\\n### Test Procedure\\n\\n#### Determine basic alternative text support.\\n\\nInspect any images, and make sure that there is basic alternative text support.'),\n",
       " Document(metadata={'source': '/workspace/data/uploaded_files/guidelines-list.md'}, page_content=\"* Text used to entitle the table should be a `<caption>` tag.  \\n  * Text used to describe the table's purpose should be a `<summary>` tag.  \\n  * `<caption>` and `<summary>` tags are not mandatory where the table's purpose can be understood from the existing table headers without needing additional context.\")]"
      ]
     },
     "execution_count": 31,
     "metadata": {},
     "output_type": "execute_result"
    }
   ],
   "source": [
    "vectorstore.similarity_search(\"alt tags\")"
   ]
  },
  {
   "cell_type": "code",
   "execution_count": null,
   "id": "fcbc6847",
   "metadata": {},
   "outputs": [],
   "source": [
    "retrieved_docs = retriever.invoke(\"What should I do if there is not an alt tag for an image?\")\n",
    "print(f\"Retrieved {len(retrieved_docs)} documents\")\n",
    "for doc in retrieved_docs:\n",
    "    print(f\"Filename: {doc.metadata['source']}\")\n",
    "    print(doc.page_content)\n",
    "    print(\"-\" * 40)"
   ]
  },
  {
   "cell_type": "code",
   "execution_count": 35,
   "id": "fb55248a",
   "metadata": {},
   "outputs": [
    {
     "data": {
      "text/plain": [
       "'* If the `<img>` tag or `role=\"img\"` is used   \\n  * There must be an `alt` attribute on the image. (Siteimprove and WAVE detect this.)  \\n  * Every `<img>` tag in a group of images must have the `alt` attribute.  \\n* If the `<svg>` tag is used   \\n  * The attribute and value `role=\"img\"` must be applied.  \\n* If the `<figure>` tag is used   \\n  * The image(s) contained within use the conventions of the aforementioned `<img>` and  `<svg>` tags.  \\n* If there is a `title` attribute present on an image, that does **not** factor into alternative text.  This attribute only provides hover-over text and is not available to assistive technology.   \\n* CSS background images must not be used to present informative or grouped images.\\n\\n#### Determine if the alternative text value is appropriate.\\n\\nUse WAVE, a Screen Reader, or the browser\\'s inspector tools (F12) to view the alternative text for each image.\\n\\nConsider an image of Vincent Van Gogh\\'s *The Starry Night*  \\n![Oil painting with thick individual brush strokes of a dark blue sky with yellow stars, white swirling clouds, and a yellow crescent moon above a town.  A large black wavy cyprus tree stands in front of the left third of the painting.]  \\n**Good:** *An oil painting with thick individual brush strokes of a dark blue sky with yellow stars, white swirling clouds, and a yellow crescent moon above a town.  A large black wavy cyprus tree stands in front of the left third of the painting.*   \\n(You would then have the title and author as a caption)\\n\\n**Passable:** *The Starry Night by Vincent Van Gogh*\\n\\n**Bad:** *van-gogh-starry-night.jpg*\\n\\n##  2. Decorative images must have empty alternative text or be otherwise hidden from assistive technology.\\n\\n### WCAG 2 criterion\\n\\n1.1.1 Non-text Content (Level A)\\n\\n### Tools and requirements\\n\\n* WAVE Extension \\\\+ Manual Evaluation  \\n* ANDI  \\n* Siteimprove\\n\\n### Test procedure\\n\\n# All guidelines\\n\\n##  1. Informative and grouped images must contain alternative text describing the purpose or meaning of the image(s).\\n\\n### WCAG 2 criterion\\n\\n1.1.1 Non-text Content (Level A)\\n\\n### Tools and requirements\\n\\n* WAVE extension, screen reader, or browser inspector\\n\\n### Note\\n\\nThis guideline is targeted at \"[informative images](https://www.w3.org/WAI/tutorials/images/informative/) and [grouped images](https://www.w3.org/WAI/tutorials/images/groups/).\"  Please refer to the image categorization guidance in the Definitions section if you are unsure which category the image you are assessing belongs to.\\n\\n### Test Procedure\\n\\n#### Determine basic alternative text support.\\n\\nInspect any images, and make sure that there is basic alternative text support.'"
      ]
     },
     "execution_count": 35,
     "metadata": {},
     "output_type": "execute_result"
    }
   ],
   "source": [
    "rag_chain = ( retriever | format_docs )\n",
    "\n",
    "rag_chain.invoke(\"What should I do if there is not an alt tag for an image?\")\n"
   ]
  }
 ],
 "metadata": {
  "kernelspec": {
   "display_name": "Python 3",
   "language": "python",
   "name": "python3"
  },
  "language_info": {
   "codemirror_mode": {
    "name": "ipython",
    "version": 3
   },
   "file_extension": ".py",
   "mimetype": "text/x-python",
   "name": "python",
   "nbconvert_exporter": "python",
   "pygments_lexer": "ipython3",
   "version": "3.11.11"
  }
 },
 "nbformat": 4,
 "nbformat_minor": 5
}
